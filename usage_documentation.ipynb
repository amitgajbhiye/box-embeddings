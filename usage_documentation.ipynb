{
 "cells": [
  {
   "cell_type": "markdown",
   "source": [
    "# Learning Box Embeddings with Example\n",
    "\n",
    "This tutorial outlines the different functionalities available within the Box Embeddings package"
   ],
   "metadata": {
    "collapsed": false
   }
  },
  {
   "cell_type": "markdown",
   "source": [
    "### 0. Installing the package on your machine\n",
    "\n",
    "*If you have the repo cloned*\n",
    "```\n",
    "pip install --editable . --user\n",
    "```"
   ],
   "metadata": {
    "collapsed": false
   }
  },
  {
   "cell_type": "markdown",
   "source": [
    "### A. Initialize a box tensor and check its parameters\n",
    "\n",
    "#### Standard Box Tensor\n",
    "To represent a Tensor as a Box, we use the class `BoxTensor`. The necessary parameter is `data` (a tensor)"
   ],
   "metadata": {
    "collapsed": false,
    "pycharm": {
     "name": "#%% md\n"
    }
   }
  },
  {
   "cell_type": "code",
   "execution_count": 72,
   "outputs": [
    {
     "data": {
      "text/plain": "BoxTensor(tensor([[-2., -2., -2., -2., -2., -2., -2., -2., -2., -2., -2., -2., -2., -2.,\n         -2., -2., -2., -2., -2., -2., -2., -2., -2., -2., -2., -2., -2., -2.,\n         -2., -2., -2., -2., -2., -2., -2., -2., -2., -2., -2., -2., -2., -2.,\n         -2., -2., -2., -2., -2., -2., -2., -2.],\n        [ 0.,  0.,  0.,  0.,  0.,  0.,  0.,  0.,  0.,  0.,  0.,  0.,  0.,  0.,\n          0.,  0.,  0.,  0.,  0.,  0.,  0.,  0.,  0.,  0.,  0.,  0.,  0.,  0.,\n          0.,  0.,  0.,  0.,  0.,  0.,  0.,  0.,  0.,  0.,  0.,  0.,  0.,  0.,\n          0.,  0.,  0.,  0.,  0.,  0.,  0.,  0.]]))"
     },
     "execution_count": 72,
     "metadata": {},
     "output_type": "execute_result"
    }
   ],
   "source": [
    "from box_embeddings.parameterizations.box_tensor import *\n",
    "\n",
    "# Let's create a toy example\n",
    "x_min = [-2.0]*50\n",
    "x_max = [0.0]*50\n",
    "data_x = torch.tensor([x_min, x_max])\n",
    "box_1 = BoxTensor(data_x)\n",
    "box_1"
   ],
   "metadata": {
    "collapsed": false,
    "pycharm": {
     "name": "#%%\n"
    }
   }
  },
  {
   "cell_type": "markdown",
   "source": [
    "We can use several methods to look at the parameters of our box, such as"
   ],
   "metadata": {
    "collapsed": false
   }
  },
  {
   "cell_type": "code",
   "execution_count": 73,
   "outputs": [
    {
     "name": "stdout",
     "output_type": "stream",
     "text": [
      "tensor([1.0000, 0.5000, 0.3333, 0.2500, 0.2000, 0.1667, 0.1429, 0.1250, 0.1111,\n",
      "        0.1000, 0.0909, 0.0833, 0.0769, 0.0714, 0.0667, 0.0625, 0.0588, 0.0556,\n",
      "        0.0526, 0.0500, 0.0476, 0.0455, 0.0435, 0.0417, 0.0400, 0.0385, 0.0370,\n",
      "        0.0357, 0.0345, 0.0333, 0.0323, 0.0312, 0.0303, 0.0294, 0.0286, 0.0278,\n",
      "        0.0270, 0.0263, 0.0256, 0.0250, 0.0244, 0.0238, 0.0233, 0.0227, 0.0222,\n",
      "        0.0217, 0.0213, 0.0208, 0.0204, 0.0200, 0.0196, 0.0192, 0.0189, 0.0185,\n",
      "        0.0182, 0.0179, 0.0175, 0.0172, 0.0169, 0.0167, 0.0164, 0.0161, 0.0159,\n",
      "        0.0156, 0.0154, 0.0152, 0.0149, 0.0147, 0.0145, 0.0143, 0.0141, 0.0139,\n",
      "        0.0137, 0.0135, 0.0133, 0.0132, 0.0130, 0.0128, 0.0127, 0.0125, 0.0123,\n",
      "        0.0122, 0.0120, 0.0119, 0.0118, 0.0116, 0.0115, 0.0114, 0.0112, 0.0111,\n",
      "        0.0110, 0.0109, 0.0108, 0.0106, 0.0105, 0.0104, 0.0103, 0.0102, 0.0101,\n",
      "        0.0100])\n",
      "tensor([2.9900, 2.9899, 2.9898, 2.9897, 2.9896, 2.9895, 2.9894, 2.9892, 2.9891,\n",
      "        2.9890, 2.9889, 2.9888, 2.9886, 2.9885, 2.9884, 2.9882, 2.9881, 2.9880,\n",
      "        2.9878, 2.9877, 2.9875, 2.9873, 2.9872, 2.9870, 2.9868, 2.9867, 2.9865,\n",
      "        2.9863, 2.9861, 2.9859, 2.9857, 2.9855, 2.9853, 2.9851, 2.9848, 2.9846,\n",
      "        2.9844, 2.9841, 2.9839, 2.9836, 2.9833, 2.9831, 2.9828, 2.9825, 2.9821,\n",
      "        2.9818, 2.9815, 2.9811, 2.9808, 2.9804, 2.9800, 2.9796, 2.9792, 2.9787,\n",
      "        2.9783, 2.9778, 2.9773, 2.9767, 2.9762, 2.9756, 2.9750, 2.9744, 2.9737,\n",
      "        2.9730, 2.9722, 2.9714, 2.9706, 2.9697, 2.9688, 2.9677, 2.9667, 2.9655,\n",
      "        2.9643, 2.9630, 2.9615, 2.9600, 2.9583, 2.9565, 2.9545, 2.9524, 2.9500,\n",
      "        2.9474, 2.9444, 2.9412, 2.9375, 2.9333, 2.9286, 2.9231, 2.9167, 2.9091,\n",
      "        2.9000, 2.8889, 2.8750, 2.8571, 2.8333, 2.8000, 2.7500, 2.6667, 2.5000,\n",
      "        2.0000])\n",
      "tensor([1.9950, 1.7449, 1.6616, 1.6198, 1.5948, 1.5781, 1.5661, 1.5571, 1.5501,\n",
      "        1.5445, 1.5399, 1.5360, 1.5328, 1.5300, 1.5275, 1.5254, 1.5235, 1.5218,\n",
      "        1.5202, 1.5188, 1.5176, 1.5164, 1.5153, 1.5143, 1.5134, 1.5126, 1.5118,\n",
      "        1.5110, 1.5103, 1.5096, 1.5090, 1.5084, 1.5078, 1.5072, 1.5067, 1.5062,\n",
      "        1.5057, 1.5052, 1.5048, 1.5043, 1.5039, 1.5034, 1.5030, 1.5026, 1.5022,\n",
      "        1.5018, 1.5014, 1.5010, 1.5006, 1.5002, 1.4998, 1.4994, 1.4990, 1.4986,\n",
      "        1.4982, 1.4978, 1.4974, 1.4970, 1.4966, 1.4961, 1.4957, 1.4952, 1.4948,\n",
      "        1.4943, 1.4938, 1.4933, 1.4928, 1.4922, 1.4916, 1.4910, 1.4904, 1.4897,\n",
      "        1.4890, 1.4882, 1.4874, 1.4866, 1.4857, 1.4847, 1.4836, 1.4824, 1.4812,\n",
      "        1.4798, 1.4782, 1.4765, 1.4746, 1.4725, 1.4700, 1.4672, 1.4640, 1.4601,\n",
      "        1.4555, 1.4499, 1.4429, 1.4339, 1.4219, 1.4052, 1.3802, 1.3384, 1.2551,\n",
      "        1.0050])\n"
     ]
    }
   ],
   "source": [
    "# Lower left coordinate\n",
    "print(box.z)\n",
    "# Top right coordinate\n",
    "print(box.Z)\n",
    "# Center coordinate\n",
    "print(box.centre)\n"
   ],
   "metadata": {
    "collapsed": false,
    "pycharm": {
     "name": "#%%\n"
    }
   }
  },
  {
   "cell_type": "markdown",
   "source": [
    "Let's broadcast our box to a new shape.. Broadcasting is often needed for different arithmetic operations. The function we\n",
    "will use is `broadcast()`, and the required parameter is `target_shape=()`, which specify the new shape\n",
    "for the box. This is very similar to `numpy.broadcast_to()`"
   ],
   "metadata": {
    "collapsed": false
   }
  },
  {
   "cell_type": "code",
   "execution_count": 74,
   "outputs": [
    {
     "name": "stdout",
     "output_type": "stream",
     "text": [
      "previous shape is: (2, 3)\n",
      "after broadcasting: (1, 2, 3)\n"
     ]
    }
   ],
   "source": [
    "data = torch.tensor([[[1, 2, 3], [3, 4, 6]],\n",
    "          [[5, 6, 8], [7, 9, 5]]])\n",
    "box = BoxTensor(data)\n",
    "print('previous shape is:', box.box_shape)\n",
    "box.broadcast(target_shape=(1, 2, 3))\n",
    "print('after broadcasting:', box.box_shape)"
   ],
   "metadata": {
    "collapsed": false,
    "pycharm": {
     "name": "#%%\n"
    }
   }
  },
  {
   "cell_type": "markdown",
   "source": [
    "#### Delta Box Tensor\n",
    "We can initialize a box with additional requirement, such as forcing `Z=z + delta` using the method `MinDeltaBoxTensor`"
   ],
   "metadata": {
    "collapsed": false
   }
  },
  {
   "cell_type": "code",
   "execution_count": 42,
   "outputs": [
    {
     "data": {
      "text/plain": "1.0"
     },
     "execution_count": 42,
     "metadata": {},
     "output_type": "execute_result"
    }
   ],
   "source": [
    "from box_embeddings.parameterizations.delta_box_tensor import *\n",
    "data = torch.tensor([[1, 2, 3], [3, 4, 6]])\n",
    "delta_box = MinDeltaBoxTensor(data)\n",
    "delta_box.z\n",
    "delta_box.beta"
   ],
   "metadata": {
    "collapsed": false,
    "pycharm": {
     "name": "#%%\n"
    }
   }
  },
  {
   "cell_type": "markdown",
   "source": [
    "#### Other Parameterization methods\n"
   ],
   "metadata": {
    "collapsed": false
   }
  },
  {
   "cell_type": "code",
   "execution_count": 68,
   "outputs": [],
   "source": [
    "# TODO\n",
    "from box_embeddings.parameterizations.sigmoid_box_tensor import *\n",
    "from box_embeddings.parameterizations.tanh_box_tensor import *"
   ],
   "metadata": {
    "collapsed": false,
    "pycharm": {
     "name": "#%%\n"
    }
   }
  },
  {
   "cell_type": "markdown",
   "source": [
    "#### Uniform Box\n",
    "Using the function `uniform_boxes`, we can create several uniform boxes specified by `num_boxes` such that each of\n",
    "them is inside the bounding box defined by `(minimum,maximum)` in each dimension. The defaults are `minimum=0.0`\n",
    "and `maximum=1.0`. We can also specify `(delta_min, delta_max)`. The defaults are `delta_min=0.01` and `delta_max=0.5`"
   ],
   "metadata": {
    "collapsed": false
   }
  },
  {
   "cell_type": "code",
   "execution_count": 23,
   "outputs": [],
   "source": [
    "# Initialize\n",
    "from box_embeddings.initializations.uniform_boxes import *\n",
    "uniform = uniform_boxes(dimensions = 2, num_boxes = 3, minimum = 1.0, maximum = 4.0)"
   ],
   "metadata": {
    "collapsed": false,
    "pycharm": {
     "name": "#%%\n"
    }
   }
  },
  {
   "cell_type": "markdown",
   "source": [
    "This function returns a tuple of `(z, Z)`, where `z` and `Z` are tensors. `z` are the lower left coordinates of\n",
    "the 3 boxes in this example. Similarly, `Z` are the top right coordinates."
   ],
   "metadata": {
    "collapsed": false
   }
  },
  {
   "cell_type": "code",
   "execution_count": 25,
   "outputs": [
    {
     "data": {
      "text/plain": "(tensor([[2.1434, 3.3852],\n         [1.9863, 2.2522],\n         [1.3006, 3.7267]], dtype=torch.float64),\n tensor([[2.4814, 3.4371],\n         [2.0022, 2.2938],\n         [1.5343, 3.7707]], dtype=torch.float64))"
     },
     "execution_count": 25,
     "metadata": {},
     "output_type": "execute_result"
    }
   ],
   "source": [
    "# Return (z,Z)\n",
    "uniform"
   ],
   "metadata": {
    "collapsed": false,
    "pycharm": {
     "name": "#%%\n"
    }
   }
  },
  {
   "cell_type": "markdown",
   "source": [
    "### 2. Box Volume\n",
    "To calculate the volume of a box, we can use either the `soft_volume`, or the Bessel volume via `bessel_volume_approx`.\n",
    "To ensure numerical stability, we can use the log version via `log_soft_volume` or `log_bessel_volume_approx`"
   ],
   "metadata": {
    "collapsed": false
   }
  },
  {
   "cell_type": "code",
   "execution_count": 77,
   "outputs": [
    {
     "name": "stdout",
     "output_type": "stream",
     "text": [
      "tensor(2.4414e+16)\n",
      "tensor(37.7339)\n"
     ]
    }
   ],
   "source": [
    "from box_embeddings.modules.volume.soft_volume import soft_volume, log_soft_volume\n",
    "from box_embeddings.modules.volume.bessel_volume import bessel_volume_approx, log_bessel_volume_approx\n",
    "\n",
    "# Create data as tensors, and initialize a box\n",
    "x_min = [-2.0]*100\n",
    "x_max = [0.0]*100\n",
    "data_x = torch.tensor([x_min, x_max])\n",
    "box_1 = BoxTensor(data_x)\n",
    "\n",
    "# Soft volume\n",
    "print(soft_volume(box_1))\n",
    "\n",
    "# Log Soft volume\n",
    "print(log_soft_volume(box_1))"
   ],
   "metadata": {
    "collapsed": false,
    "pycharm": {
     "name": "#%%\n"
    }
   }
  },
  {
   "cell_type": "markdown",
   "source": [
    "### 3. Box Intersection\n",
    "\n",
    "To calculate the intersection of two boxes (which yields a box), we can use either `hard_intersection` or\n",
    "`gumbel_intersection`"
   ],
   "metadata": {
    "collapsed": false
   }
  },
  {
   "cell_type": "code",
   "execution_count": 78,
   "outputs": [
    {
     "name": "stdout",
     "output_type": "stream",
     "text": [
      "BoxTensor(z=tensor([1.0000, 0.5000, 0.3333, 0.2500, 0.2000, 0.1667, 0.1429, 0.1250, 0.1111,\n",
      "        0.1000, 0.0909, 0.0833, 0.0769, 0.0714, 0.0667, 0.0625, 0.0588, 0.0556,\n",
      "        0.0526, 0.0500, 0.0476, 0.0455, 0.0435, 0.0417, 0.0400, 0.0385, 0.0370,\n",
      "        0.0357, 0.0345, 0.0333, 0.0323, 0.0312, 0.0303, 0.0294, 0.0286, 0.0278,\n",
      "        0.0270, 0.0263, 0.0256, 0.0250, 0.0244, 0.0238, 0.0233, 0.0227, 0.0222,\n",
      "        0.0217, 0.0213, 0.0208, 0.0204, 0.0200, 0.0196, 0.0192, 0.0189, 0.0185,\n",
      "        0.0182, 0.0179, 0.0175, 0.0172, 0.0169, 0.0167, 0.0164, 0.0161, 0.0159,\n",
      "        0.0156, 0.0154, 0.0152, 0.0149, 0.0147, 0.0145, 0.0143, 0.0141, 0.0139,\n",
      "        0.0137, 0.0135, 0.0133, 0.0132, 0.0130, 0.0128, 0.0127, 0.0125, 0.0123,\n",
      "        0.0122, 0.0120, 0.0119, 0.0118, 0.0116, 0.0115, 0.0114, 0.0112, 0.0111,\n",
      "        0.0110, 0.0109, 0.0108, 0.0106, 0.0105, 0.0104, 0.0103, 0.0102, 0.0101,\n",
      "        0.0100], grad_fn=<MaximumBackward>),\n",
      "Z=tensor([0., 0., 0., 0., 0., 0., 0., 0., 0., 0., 0., 0., 0., 0., 0., 0., 0., 0., 0., 0., 0., 0., 0., 0.,\n",
      "        0., 0., 0., 0., 0., 0., 0., 0., 0., 0., 0., 0., 0., 0., 0., 0., 0., 0., 0., 0., 0., 0., 0., 0.,\n",
      "        0., 0., 0., 0., 0., 0., 0., 0., 0., 0., 0., 0., 0., 0., 0., 0., 0., 0., 0., 0., 0., 0., 0., 0.,\n",
      "        0., 0., 0., 0., 0., 0., 0., 0., 0., 0., 0., 0., 0., 0., 0., 0., 0., 0., 0., 0., 0., 0., 0., 0.,\n",
      "        0., 0., 0., 0.], grad_fn=<MinimumBackward>))\n",
      "BoxTensor(z=tensor([1.0486, 0.5789, 0.4259, 0.3502, 0.3051, 0.2751, 0.2538, 0.2378, 0.2254,\n",
      "        0.2155, 0.2074, 0.2007, 0.1950, 0.1901, 0.1859, 0.1822, 0.1789, 0.1760,\n",
      "        0.1734, 0.1711, 0.1690, 0.1671, 0.1653, 0.1637, 0.1622, 0.1609, 0.1596,\n",
      "        0.1585, 0.1574, 0.1563, 0.1554, 0.1545, 0.1537, 0.1529, 0.1521, 0.1514,\n",
      "        0.1508, 0.1501, 0.1495, 0.1490, 0.1484, 0.1479, 0.1474, 0.1470, 0.1465,\n",
      "        0.1461, 0.1457, 0.1453, 0.1449, 0.1446, 0.1442, 0.1439, 0.1436, 0.1433,\n",
      "        0.1430, 0.1427, 0.1424, 0.1421, 0.1419, 0.1416, 0.1414, 0.1411, 0.1409,\n",
      "        0.1407, 0.1405, 0.1403, 0.1401, 0.1399, 0.1397, 0.1395, 0.1393, 0.1392,\n",
      "        0.1390, 0.1388, 0.1387, 0.1385, 0.1384, 0.1382, 0.1381, 0.1379, 0.1378,\n",
      "        0.1377, 0.1375, 0.1374, 0.1373, 0.1372, 0.1371, 0.1369, 0.1368, 0.1367,\n",
      "        0.1366, 0.1365, 0.1364, 0.1363, 0.1362, 0.1361, 0.1360, 0.1359, 0.1358,\n",
      "        0.1357], grad_fn=<MulBackward0>),\n",
      "Z=tensor([-0.3160, -0.3160, -0.3160, -0.3160, -0.3161, -0.3161, -0.3161, -0.3162,\n",
      "        -0.3162, -0.3162, -0.3163, -0.3163, -0.3163, -0.3164, -0.3164, -0.3164,\n",
      "        -0.3165, -0.3165, -0.3166, -0.3166, -0.3166, -0.3167, -0.3167, -0.3168,\n",
      "        -0.3168, -0.3169, -0.3169, -0.3170, -0.3170, -0.3171, -0.3171, -0.3172,\n",
      "        -0.3172, -0.3173, -0.3174, -0.3174, -0.3175, -0.3176, -0.3176, -0.3177,\n",
      "        -0.3178, -0.3178, -0.3179, -0.3180, -0.3181, -0.3182, -0.3183, -0.3184,\n",
      "        -0.3185, -0.3186, -0.3187, -0.3188, -0.3189, -0.3190, -0.3192, -0.3193,\n",
      "        -0.3194, -0.3196, -0.3197, -0.3199, -0.3200, -0.3202, -0.3204, -0.3206,\n",
      "        -0.3208, -0.3210, -0.3213, -0.3215, -0.3218, -0.3220, -0.3223, -0.3227,\n",
      "        -0.3230, -0.3234, -0.3238, -0.3242, -0.3246, -0.3251, -0.3257, -0.3263,\n",
      "        -0.3270, -0.3277, -0.3285, -0.3294, -0.3305, -0.3316, -0.3330, -0.3345,\n",
      "        -0.3364, -0.3385, -0.3412, -0.3444, -0.3484, -0.3537, -0.3609, -0.3711,\n",
      "        -0.3869, -0.4144, -0.4741, -0.6931], grad_fn=<MulBackward0>))\n"
     ]
    }
   ],
   "source": [
    "from box_embeddings.modules.intersection import hard_intersection, gumbel_intersection\n",
    "\n",
    "# Create data as tensors, and initialize two boxes, box_1 and box_2\n",
    "x_min = [-2.0]*100\n",
    "x_max = [0.0]*100\n",
    "data_x = torch.tensor([x_min, x_max])\n",
    "box_1 = BoxTensor(data_x)\n",
    "\n",
    "y_min = [1/n for n in range(1, 101)]\n",
    "y_max = [1 - k for k in reversed(y_min)]\n",
    "data_y = torch.tensor([y_min, y_max], requires_grad=True)\n",
    "box_2 = BoxTensor(data_y)\n",
    "\n",
    "# Intersection of box_1 and box_2\n",
    "print(hard_intersection(box_1, box_2))\n",
    "\n",
    "# Gumbel intersection of box_1 and box_2\n",
    "print(gumbel_intersection(box_1, box_2))"
   ],
   "metadata": {
    "collapsed": false,
    "pycharm": {
     "name": "#%%\n"
    }
   }
  },
  {
   "cell_type": "markdown",
   "source": [
    "### 4. Box Training\n",
    "In the following example, we train a simple box `box_2` to require it to be completely contained inside another box\n",
    "`box_1`. The training loop returns the best `box_2`."
   ],
   "metadata": {
    "collapsed": false
   }
  },
  {
   "cell_type": "code",
   "execution_count": 79,
   "outputs": [
    {
     "name": "stdout",
     "output_type": "stream",
     "text": [
      "Iteration 0, loss = 61.7071\n",
      "Iteration 1, loss = 58.2051\n",
      "Iteration 2, loss = 54.6527\n",
      "Iteration 3, loss = 51.0442\n",
      "Iteration 4, loss = 47.3736\n",
      "Iteration 5, loss = 43.6348\n",
      "Iteration 6, loss = 39.8212\n",
      "Iteration 7, loss = 35.9260\n",
      "Iteration 8, loss = 31.9714\n",
      "Iteration 9, loss = 27.9444\n",
      "Iteration 10, loss = 23.8155\n",
      "Iteration 11, loss = 19.6192\n",
      "Iteration 12, loss = 15.3355\n",
      "Iteration 13, loss = 11.0073\n",
      "Iteration 14, loss = 6.7032\n",
      "Iteration 15, loss = 2.5618\n",
      "Iteration 16, loss = 0.0000\n",
      "Iteration 17, loss = 0.0000\n",
      "Iteration 18, loss = 0.0000\n",
      "Iteration 19, loss = 0.0000\n"
     ]
    },
    {
     "data": {
      "text/plain": "BoxTensor(tensor([[ 9.0841e-01,  3.8041e-01,  2.0479e-01,  1.1735e-01,  6.4819e-02,\n          2.9872e-02,  4.9503e-03, -1.3714e-02, -2.8212e-02, -3.9795e-02,\n         -4.9260e-02, -5.7138e-02, -6.3795e-02, -6.9492e-02, -7.4423e-02,\n         -7.8730e-02, -8.2524e-02, -8.5890e-02, -8.8896e-02, -9.1595e-02,\n         -9.4031e-02, -9.6240e-02, -9.8251e-02, -1.0009e-01, -1.0178e-01,\n         -1.0333e-01, -1.0476e-01, -1.0608e-01, -1.0730e-01, -1.0844e-01,\n         -1.0950e-01, -1.1049e-01, -1.1141e-01, -1.1227e-01, -1.1308e-01,\n         -1.1384e-01, -1.1455e-01, -1.1521e-01, -1.1584e-01, -1.1642e-01,\n         -1.1698e-01, -1.1750e-01, -1.1798e-01, -1.1844e-01, -1.1887e-01,\n         -1.1928e-01, -1.1966e-01, -1.2001e-01, -1.2035e-01, -1.2066e-01,\n         -1.2095e-01, -1.2122e-01, -1.2147e-01, -1.2169e-01, -1.2191e-01,\n         -1.2210e-01, -1.2227e-01, -1.2242e-01, -1.2256e-01, -1.2268e-01,\n         -1.2278e-01, -1.2286e-01, -1.2292e-01, -1.2296e-01, -1.2299e-01,\n         -1.2299e-01, -1.2297e-01, -1.2293e-01, -1.2286e-01, -1.2277e-01,\n         -1.2266e-01, -1.2251e-01, -1.2234e-01, -1.2213e-01, -1.2188e-01,\n         -1.2160e-01, -1.2127e-01, -1.2090e-01, -1.2047e-01, -1.1998e-01,\n         -1.1941e-01, -1.1877e-01, -1.1804e-01, -1.1720e-01, -1.1623e-01,\n         -1.1520e-01, -1.1400e-01, -1.1258e-01, -1.1091e-01, -1.0890e-01,\n         -1.0646e-01, -1.0345e-01, -9.9842e-02, -9.5299e-02, -8.9200e-02,\n         -8.1209e-02, -6.9771e-02, -5.2553e-02, -2.5121e-02,  1.0000e-02],\n        [-2.6162e-02, -6.8888e-02, -2.2585e-02, -7.3182e-02, -5.8129e-02,\n         -4.8133e-02, -4.1035e-02, -3.5752e-02, -3.1682e-02, -2.8461e-02,\n         -2.5859e-02, -2.3723e-02, -2.1945e-02, -2.0449e-02, -1.9181e-02,\n         -1.8098e-02, -1.7169e-02, -1.6368e-02, -1.5677e-02, -1.5079e-02,\n         -1.4563e-02, -1.4118e-02, -1.3735e-02, -1.3408e-02, -1.3131e-02,\n         -1.2899e-02, -1.2708e-02, -1.2554e-02, -1.2435e-02, -1.2348e-02,\n         -1.2291e-02, -1.2262e-02, -1.2260e-02, -1.2284e-02, -1.2331e-02,\n         -1.2402e-02, -1.2496e-02, -1.2612e-02, -1.2751e-02, -1.2910e-02,\n         -1.3091e-02, -1.3292e-02, -1.3515e-02, -1.3760e-02, -1.4026e-02,\n         -1.4314e-02, -1.4624e-02, -1.4957e-02, -1.5314e-02, -1.5695e-02,\n         -1.6101e-02, -1.6532e-02, -1.6991e-02, -1.7478e-02, -1.7995e-02,\n         -1.8543e-02, -1.9124e-02, -1.9739e-02, -2.0392e-02, -2.1083e-02,\n         -2.1816e-02, -2.2594e-02, -2.3419e-02, -2.4295e-02, -2.5227e-02,\n         -2.6218e-02, -2.7274e-02, -2.8400e-02, -2.9602e-02, -3.0888e-02,\n         -3.2266e-02, -3.3745e-02, -3.5335e-02, -3.7049e-02, -3.8900e-02,\n         -4.0906e-02, -4.3084e-02, -4.5458e-02, -4.8053e-02, -5.0902e-02,\n         -5.4041e-02, -5.7517e-02, -6.1385e-02, -6.5715e-02, -3.2651e-04,\n         -5.7558e-03, -1.1967e-02, -1.9141e-02, -2.7518e-02, -3.7425e-02,\n         -4.9322e-02, -6.3870e-02, -1.1354e-02, -3.4311e-02, -6.4930e-02,\n         -3.6384e-02, -2.8011e-02, -5.8919e-02, -4.0434e-02,  0.0000e+00]],\n       requires_grad=True))"
     },
     "execution_count": 79,
     "metadata": {},
     "output_type": "execute_result"
    }
   ],
   "source": [
    "# Training boxes\n",
    "from box_embeddings.modules.volume.soft_volume import log_soft_volume\n",
    "from box_embeddings.modules.intersection import hard_intersection\n",
    "\n",
    "x_min = [-2.0 for n in range(1, 101)]\n",
    "x_max = [0.0 for k in reversed(x_min)]\n",
    "data_x = torch.tensor([x_min, x_max], requires_grad=True)\n",
    "box_1 = BoxTensor(data_x)\n",
    "\n",
    "y_min = [1/n for n in range(1, 101)]\n",
    "y_max = [1 - k for k in reversed(y_min)]\n",
    "data_y = torch.tensor([y_min, y_max], requires_grad=True)\n",
    "box_2 = BoxTensor(data_y)\n",
    "learning_rate = 0.1\n",
    "\n",
    "def train(box_1, box_2, optimizer, epochs=1):\n",
    "    best_loss = int()\n",
    "    best_box_2 = None\n",
    "    for e in range(epochs):\n",
    "        loss = log_soft_volume(box_2)-log_soft_volume(hard_intersection(box_1, box_2))\n",
    "        optimizer.zero_grad()\n",
    "        loss.backward()\n",
    "        optimizer.step()\n",
    "        if best_loss < loss.item():\n",
    "            best_loss = loss.item()\n",
    "            best_box_2 = box_2\n",
    "        print('Iteration %d, loss = %.4f' % (e, loss.item()))\n",
    "    return best_box_2\n",
    "\n",
    "optimizer =  torch.optim.SGD([data_y], lr=learning_rate)\n",
    "train(box_1, box_2, optimizer, epochs=20)"
   ],
   "metadata": {
    "collapsed": false,
    "pycharm": {
     "name": "#%%\n"
    }
   }
  }
 ],
 "metadata": {
  "kernelspec": {
   "display_name": "Python 3",
   "language": "python",
   "name": "python3"
  },
  "language_info": {
   "codemirror_mode": {
    "name": "ipython",
    "version": 2
   },
   "file_extension": ".py",
   "mimetype": "text/x-python",
   "name": "python",
   "nbconvert_exporter": "python",
   "pygments_lexer": "ipython2",
   "version": "2.7.6"
  }
 },
 "nbformat": 4,
 "nbformat_minor": 0
}
