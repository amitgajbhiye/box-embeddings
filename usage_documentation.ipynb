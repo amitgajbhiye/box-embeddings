{
 "cells": [
  {
   "cell_type": "markdown",
   "source": [
    "# Usage Examples\n",
    "\n",
    "This document outlines the different functionalities available within the Box Embeddings package"
   ],
   "metadata": {
    "collapsed": false
   }
  },
  {
   "cell_type": "markdown",
   "source": [
    "### 0. Installing the package on your machine\n",
    "\n",
    "*If you have the repo cloned*\n",
    "```\n",
    "pip install --editable . --user\n",
    "```"
   ],
   "metadata": {
    "collapsed": false
   }
  },
  {
   "cell_type": "markdown",
   "source": [
    "### A. Initialize a box tensor and check its parameters\n",
    "\n",
    "#### Standard Box Tensor\n",
    "To represent a Tensor as a Box, we use the class `BoxTensor`. The necessary parameter is `data` (a tensor)"
   ],
   "metadata": {
    "collapsed": false,
    "pycharm": {
     "name": "#%% md\n"
    }
   }
  },
  {
   "cell_type": "code",
   "execution_count": 59,
   "outputs": [
    {
     "name": "stdout",
     "output_type": "stream",
     "text": [
      "torch.Size([2, 2, 3])\n"
     ]
    }
   ],
   "source": [
    "from box_embeddings.parameterizations.box_tensor import *\n",
    "\n",
    "# Let's create a toy example\n",
    "data = torch.tensor([[[1, 2, 3], [3, 4, 6]],\n",
    "          [[5, 6, 8], [7, 9, 5]]])\n",
    "print(data.size())\n",
    "box = BoxTensor(data)"
   ],
   "metadata": {
    "collapsed": false,
    "pycharm": {
     "name": "#%%\n"
    }
   }
  },
  {
   "cell_type": "markdown",
   "source": [
    "We can use several methods to look at the parameters of our box, such as"
   ],
   "metadata": {
    "collapsed": false
   }
  },
  {
   "cell_type": "code",
   "execution_count": 60,
   "outputs": [
    {
     "name": "stdout",
     "output_type": "stream",
     "text": [
      "tensor([[1, 2, 3],\n",
      "        [5, 6, 8]])\n",
      "tensor([[3, 4, 6],\n",
      "        [7, 9, 5]])\n",
      "tensor([[2.0000, 3.0000, 4.5000],\n",
      "        [6.0000, 7.5000, 6.5000]])\n"
     ]
    }
   ],
   "source": [
    "# Lower left coordinate\n",
    "print(box.z)\n",
    "# Top right coordinate\n",
    "print(box.Z)\n",
    "# Center coordinate\n",
    "print(box.centre)\n"
   ],
   "metadata": {
    "collapsed": false,
    "pycharm": {
     "name": "#%%\n"
    }
   }
  },
  {
   "cell_type": "markdown",
   "source": [
    "Let's broadcast our box to a new shape.. Broadcasting is often needed for different arithmetic operations. The function we\n",
    "will use is `broadcast()`, and the required parameter is `target_shape=()`, which specify the new shape\n",
    "for the box. This is very similar to `numpy.broadcast_to()`"
   ],
   "metadata": {
    "collapsed": false
   }
  },
  {
   "cell_type": "code",
   "execution_count": 74,
   "outputs": [
    {
     "name": "stdout",
     "output_type": "stream",
     "text": [
      "previous shape is: (2, 3)\n",
      "after broadcasting: (1, 2, 3)\n"
     ]
    }
   ],
   "source": [
    "data = torch.tensor([[[1, 2, 3], [3, 4, 6]],\n",
    "          [[5, 6, 8], [7, 9, 5]]])\n",
    "box = BoxTensor(data)\n",
    "print('previous shape is:', box.box_shape)\n",
    "box.broadcast(target_shape=(1, 2, 3))\n",
    "print('after broadcasting:', box.box_shape)"
   ],
   "metadata": {
    "collapsed": false,
    "pycharm": {
     "name": "#%%\n"
    }
   }
  },
  {
   "cell_type": "markdown",
   "source": [
    "#### Delta Box Tensor\n",
    "We can initialize a box with additional requirement, such as forcing `Z=z + delta` using the method `MinDeltaBoxTensor`"
   ],
   "metadata": {
    "collapsed": false
   }
  },
  {
   "cell_type": "code",
   "execution_count": 42,
   "outputs": [
    {
     "data": {
      "text/plain": "1.0"
     },
     "execution_count": 42,
     "metadata": {},
     "output_type": "execute_result"
    }
   ],
   "source": [
    "from box_embeddings.parameterizations.delta_box_tensor import *\n",
    "data = torch.tensor([[1, 2, 3], [3, 4, 6]])\n",
    "delta_box = MinDeltaBoxTensor(data)\n",
    "delta_box.z\n",
    "delta_box.beta"
   ],
   "metadata": {
    "collapsed": false,
    "pycharm": {
     "name": "#%%\n"
    }
   }
  },
  {
   "cell_type": "markdown",
   "source": [
    "#### Sigmoid Box Tensor"
   ],
   "metadata": {
    "collapsed": false
   }
  },
  {
   "cell_type": "code",
   "execution_count": 2,
   "outputs": [
    {
     "ename": "ImportError",
     "evalue": "cannot import name 'inv_sigmoid' from 'box_embeddings.common.utils' (/Users/mm12574/box-embeddings/box_embeddings/common/utils.py)",
     "output_type": "error",
     "traceback": [
      "\u001B[0;31m---------------------------------------------------------------------------\u001B[0m",
      "\u001B[0;31mImportError\u001B[0m                               Traceback (most recent call last)",
      "\u001B[0;32m<ipython-input-2-e53367d39756>\u001B[0m in \u001B[0;36m<module>\u001B[0;34m\u001B[0m\n\u001B[1;32m      1\u001B[0m \u001B[0;31m# TODO\u001B[0m\u001B[0;34m\u001B[0m\u001B[0;34m\u001B[0m\u001B[0;34m\u001B[0m\u001B[0m\n\u001B[0;32m----> 2\u001B[0;31m \u001B[0;32mfrom\u001B[0m \u001B[0mbox_embeddings\u001B[0m\u001B[0;34m.\u001B[0m\u001B[0mparameterizations\u001B[0m\u001B[0;34m.\u001B[0m\u001B[0msigmoid_box_tensor\u001B[0m \u001B[0;32mimport\u001B[0m \u001B[0;34m*\u001B[0m\u001B[0;34m\u001B[0m\u001B[0;34m\u001B[0m\u001B[0m\n\u001B[0m",
      "\u001B[0;32m~/box-embeddings/box_embeddings/parameterizations/sigmoid_box_tensor.py\u001B[0m in \u001B[0;36m<module>\u001B[0;34m\u001B[0m\n\u001B[1;32m      8\u001B[0m     \u001B[0mTBoxTensor\u001B[0m\u001B[0;34m,\u001B[0m\u001B[0;34m\u001B[0m\u001B[0;34m\u001B[0m\u001B[0m\n\u001B[1;32m      9\u001B[0m )\n\u001B[0;32m---> 10\u001B[0;31m \u001B[0;32mfrom\u001B[0m \u001B[0mbox_embeddings\u001B[0m\u001B[0;34m.\u001B[0m\u001B[0mcommon\u001B[0m\u001B[0;34m.\u001B[0m\u001B[0mutils\u001B[0m \u001B[0;32mimport\u001B[0m \u001B[0msoftplus_inverse\u001B[0m\u001B[0;34m,\u001B[0m \u001B[0minv_sigmoid\u001B[0m\u001B[0;34m\u001B[0m\u001B[0;34m\u001B[0m\u001B[0m\n\u001B[0m\u001B[1;32m     11\u001B[0m \u001B[0;32mimport\u001B[0m \u001B[0mtorch\u001B[0m\u001B[0;34m\u001B[0m\u001B[0;34m\u001B[0m\u001B[0m\n\u001B[1;32m     12\u001B[0m \u001B[0;32mimport\u001B[0m \u001B[0mwarnings\u001B[0m\u001B[0;34m\u001B[0m\u001B[0;34m\u001B[0m\u001B[0m\n",
      "\u001B[0;31mImportError\u001B[0m: cannot import name 'inv_sigmoid' from 'box_embeddings.common.utils' (/Users/mm12574/box-embeddings/box_embeddings/common/utils.py)"
     ]
    }
   ],
   "source": [
    "# TODO\n",
    "from box_embeddings.parameterizations.sigmoid_box_tensor import *"
   ],
   "metadata": {
    "collapsed": false,
    "pycharm": {
     "name": "#%%\n"
    }
   }
  },
  {
   "cell_type": "markdown",
   "source": [
    "#### Tanh Box Tensor"
   ],
   "metadata": {
    "collapsed": false
   }
  },
  {
   "cell_type": "code",
   "execution_count": 4,
   "outputs": [],
   "source": [
    "# TODO\n",
    "from box_embeddings.parameterizations.tanh_box_tensor import *"
   ],
   "metadata": {
    "collapsed": false,
    "pycharm": {
     "name": "#%%\n"
    }
   }
  },
  {
   "cell_type": "markdown",
   "source": [
    "#### Uniform Box\n",
    "Using the function `uniform_boxes`, we can create several uniform boxes specified by `num_boxes` such that each of\n",
    "them is inside the bounding box defined by `(minimum,maximum)` in each dimension. The defaults are `minimum=0.0`\n",
    "and `maximum=1.0`. We can also specify `(delta_min, delta_max)`. The defaults are `delta_min=0.01` and `delta_max=0.5`"
   ],
   "metadata": {
    "collapsed": false
   }
  },
  {
   "cell_type": "code",
   "execution_count": 23,
   "outputs": [],
   "source": [
    "# Initialize\n",
    "from box_embeddings.initializations.uniform_boxes import *\n",
    "uniform = uniform_boxes(dimensions = 2, num_boxes = 3, minimum = 1.0, maximum = 4.0)"
   ],
   "metadata": {
    "collapsed": false,
    "pycharm": {
     "name": "#%%\n"
    }
   }
  },
  {
   "cell_type": "markdown",
   "source": [
    "This function returns a tuple of `(z, Z)`, where `z` and `Z` are tensors. `z` are the lower left coordinates of\n",
    "the 3 boxes in this example. Similarly, `Z` are the top right coordinates."
   ],
   "metadata": {
    "collapsed": false
   }
  },
  {
   "cell_type": "code",
   "execution_count": 25,
   "outputs": [
    {
     "data": {
      "text/plain": "(tensor([[2.1434, 3.3852],\n         [1.9863, 2.2522],\n         [1.3006, 3.7267]], dtype=torch.float64),\n tensor([[2.4814, 3.4371],\n         [2.0022, 2.2938],\n         [1.5343, 3.7707]], dtype=torch.float64))"
     },
     "execution_count": 25,
     "metadata": {},
     "output_type": "execute_result"
    }
   ],
   "source": [
    "# Return (z,Z)\n",
    "uniform"
   ],
   "metadata": {
    "collapsed": false,
    "pycharm": {
     "name": "#%%\n"
    }
   }
  },
  {
   "cell_type": "markdown",
   "source": [
    "### 2. Box Volume"
   ],
   "metadata": {
    "collapsed": false
   }
  },
  {
   "cell_type": "code",
   "execution_count": 75,
   "outputs": [],
   "source": [
    "# TODO\n",
    "# Currently no codes yet\n",
    "from box_embeddings.modules.volume import *"
   ],
   "metadata": {
    "collapsed": false,
    "pycharm": {
     "name": "#%%\n"
    }
   }
  },
  {
   "cell_type": "markdown",
   "source": [
    "### 3. Box Regularization"
   ],
   "metadata": {
    "collapsed": false
   }
  },
  {
   "cell_type": "code",
   "execution_count": 76,
   "outputs": [],
   "source": [
    "# TODO\n",
    "# Currently no codes yet\n",
    "from box_embeddings.modules.regularization import *"
   ],
   "metadata": {
    "collapsed": false,
    "pycharm": {
     "name": "#%%\n"
    }
   }
  },
  {
   "cell_type": "markdown",
   "source": [
    "### 4. Box Intersection"
   ],
   "metadata": {
    "collapsed": false
   }
  },
  {
   "cell_type": "code",
   "execution_count": 1,
   "outputs": [
    {
     "name": "stderr",
     "output_type": "stream",
     "text": [
      "AllenNLP not available. Registrable won't work.\n"
     ]
    }
   ],
   "source": [
    "from box_embeddings.modules.intersection import *"
   ],
   "metadata": {
    "collapsed": false,
    "pycharm": {
     "name": "#%%\n"
    }
   }
  },
  {
   "cell_type": "markdown",
   "source": [
    "### 5. Box Pooling"
   ],
   "metadata": {
    "collapsed": false
   }
  },
  {
   "cell_type": "code",
   "execution_count": 78,
   "outputs": [],
   "source": [
    "from box_embeddings.modules.pooling import *\n"
   ],
   "metadata": {
    "collapsed": false,
    "pycharm": {
     "name": "#%%\n"
    }
   }
  }
 ],
 "metadata": {
  "kernelspec": {
   "display_name": "Python 3",
   "language": "python",
   "name": "python3"
  },
  "language_info": {
   "codemirror_mode": {
    "name": "ipython",
    "version": 2
   },
   "file_extension": ".py",
   "mimetype": "text/x-python",
   "name": "python",
   "nbconvert_exporter": "python",
   "pygments_lexer": "ipython2",
   "version": "2.7.6"
  }
 },
 "nbformat": 4,
 "nbformat_minor": 0
}
