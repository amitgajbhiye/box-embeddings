{
 "cells": [
  {
   "cell_type": "markdown",
   "source": [
    "# Learning Box Embeddings (PyTorch version) with Example\n",
    "\n",
    "This tutorial outlines the different functionalities available within the Box Embeddings package (PyTorch version)"
   ],
   "metadata": {
    "collapsed": false
   }
  },
  {
   "cell_type": "markdown",
   "source": [
    "### A. Initialize a box tensor and check its parameters\n",
    "\n",
    "#### Standard Box Tensor\n",
    "To represent a Tensor as a Box, we use the class `BoxTensor`. The necessary parameter is `data` (a tensor).\n",
    "Let's create a toy example"
   ],
   "metadata": {
    "collapsed": false,
    "pycharm": {
     "name": "#%% md\n"
    }
   }
  },
  {
   "cell_type": "code",
   "execution_count": 1,
   "outputs": [
    {
     "name": "stderr",
     "output_type": "stream",
     "text": [
      "AllenNLP not available. Registrable won't work.\n"
     ]
    },
    {
     "data": {
      "text/plain": "BoxTensor(tensor([[[ 1,  2],\n         [-1,  5]],\n\n        [[ 0,  2],\n         [-2,  3]],\n\n        [[-3,  3],\n         [-2,  4]]]))"
     },
     "execution_count": 1,
     "metadata": {},
     "output_type": "execute_result"
    }
   ],
   "source": [
    "import torch\n",
    "from box_embeddings.parameterizations.box_tensor import BoxTensor\n",
    "\n",
    "x_min = [-2.0]*50\n",
    "x_max = [0.0]*50\n",
    "data_x = torch.tensor([[[1,2],[-1,5]], [[0,2],[-2,3]], [[-3,3],[-2,4]]])\n",
    "box_1 = BoxTensor(data_x)\n",
    "box_1"
   ],
   "metadata": {
    "collapsed": false,
    "pycharm": {
     "name": "#%%\n"
    }
   }
  },
  {
   "cell_type": "markdown",
   "source": [
    "We can use several methods from the `BoxTensor` class to look at the parameters of our box, such as"
   ],
   "metadata": {
    "collapsed": false
   }
  },
  {
   "cell_type": "code",
   "execution_count": 2,
   "outputs": [
    {
     "name": "stdout",
     "output_type": "stream",
     "text": [
      "tensor([[ 1,  2],\n",
      "        [ 0,  2],\n",
      "        [-3,  3]])\n",
      "tensor([[-1,  5],\n",
      "        [-2,  3],\n",
      "        [-2,  4]])\n",
      "tensor([[ 0.0000,  3.5000],\n",
      "        [-1.0000,  2.5000],\n",
      "        [-2.5000,  3.5000]])\n"
     ]
    }
   ],
   "source": [
    "from box_embeddings.parameterizations.box_tensor import BoxTensor\n",
    "# Lower left coordinate\n",
    "print(box_1.z)\n",
    "# Top right coordinate\n",
    "print(box_1.Z)\n",
    "# Center coordinate\n",
    "print(box_1.centre)"
   ],
   "metadata": {
    "collapsed": false,
    "pycharm": {
     "name": "#%%\n"
    }
   }
  },
  {
   "cell_type": "markdown",
   "source": [
    "Let's broadcast our box to a new shape. Broadcasting is needed for different arithmetic operations. The function we\n",
    "will use is `broadcast()`, which comes from the `BoxTensor` class, and the required parameter is `target_shape=()`,\n",
    "which specify the new shape for the box. This is very similar to `numpy.broadcast_to()`"
   ],
   "metadata": {
    "collapsed": false
   }
  },
  {
   "cell_type": "code",
   "execution_count": 3,
   "outputs": [
    {
     "name": "stdout",
     "output_type": "stream",
     "text": [
      "previous shape: (2, 3)\n",
      "after broadcasting: (2, 1, 3)\n"
     ]
    }
   ],
   "source": [
    "from box_embeddings.parameterizations.box_tensor import BoxTensor\n",
    "data = torch.tensor([[[1, 2, 3], [3, 4, 6]],\n",
    "          [[5, 6, 8], [7, 9, 5]]])\n",
    "box = BoxTensor(data)\n",
    "print('previous shape:', box.box_shape)\n",
    "box.broadcast(target_shape=(2, 1, 3))\n",
    "print('after broadcasting:', box.box_shape)"
   ],
   "metadata": {
    "collapsed": false,
    "pycharm": {
     "name": "#%%\n"
    }
   }
  },
  {
   "cell_type": "markdown",
   "source": [
    "### 2. Box Volume\n",
    "To calculate the volume of a box, use the all-in-one `Volume` class. The volume is default to be log-scaled, hard volume.\n",
    "To return regular volume (not logged), set `log_scale=False`. To use soft volume, set `volume_temperature`\n",
    "to be a non-zero value (default is 0.0). The `HardVolume` and `SoftVolume` methods are registered separately\n",
    "for convenience."
   ],
   "metadata": {
    "collapsed": false
   }
  },
  {
   "cell_type": "code",
   "execution_count": 12,
   "outputs": [
    {
     "name": "stdout",
     "output_type": "stream",
     "text": [
      "Logged Hard volume: tensor(13.8629)\n",
      "Logged Hard volume: tensor(13.8629)\n",
      "Regular Hard volume: tensor(1048576.)\n",
      "-----------\n",
      "Logged Soft volume: tensor(15.0936)\n",
      "Logged Soft volume: tensor(15.0936)\n"
     ]
    }
   ],
   "source": [
    "from box_embeddings.modules.volume import Volume, SoftVolume, HardVolume\n",
    "\n",
    "# Create data as tensors, and initialize a box\n",
    "data = torch.tensor([[-2.0]*20, [0.0]*20])\n",
    "box_1 = BoxTensor(data)\n",
    "\n",
    "# Logged Hard volume using Volume class\n",
    "print(\"Logged Hard volume:\", Volume(volume_temperature=0.0)(box_1))\n",
    "\n",
    "# Logged Hard volume using HardVolume method\n",
    "print(\"Logged Hard volume:\", HardVolume()(box_1))\n",
    "\n",
    "# Regular Hard volume using Volume class\n",
    "print(\"Regular Hard volume:\", Volume(volume_temperature=0.0, log_scale=False)(box_1))\n",
    "print(\"-----------\")\n",
    "# Logged Soft volume using Volume class\n",
    "print(\"Logged Soft volume:\", Volume(volume_temperature=1.0)(box_1))\n",
    "\n",
    "# Logged Hard volume using SoftVolume method\n",
    "print(\"Logged Soft volume:\", SoftVolume()(box_1))"
   ],
   "metadata": {
    "collapsed": false,
    "pycharm": {
     "name": "#%%\n"
    }
   }
  },
  {
   "cell_type": "markdown",
   "source": [
    "### 3. Box Intersection\n",
    "\n",
    "To calculate the intersection of two boxes (which yields another box defined by a pair of `(z, Z)`,\n",
    "use the all-in-one `Intersection` module. The intersection from this module is default to be\n",
    "hard intersection. To use Gumbel intersection, set `intersection_temperature` to be a non-zero value (default is 0.0).\n",
    "The `HardIntersection` and `GumbelIntersection` methods are also registered separately for convenience."
   ],
   "metadata": {
    "collapsed": false
   }
  },
  {
   "cell_type": "code",
   "execution_count": 11,
   "outputs": [
    {
     "name": "stdout",
     "output_type": "stream",
     "text": [
      "Hard intersection: BoxTensor(z=tensor([1.0000, 0.5000, 0.3333, 0.2500, 0.2000, 0.1667, 0.1429, 0.1250, 0.1111,\n",
      "        0.1000, 0.0909, 0.0833, 0.0769, 0.0714, 0.0667, 0.0625, 0.0588, 0.0556,\n",
      "        0.0526, 0.0500], grad_fn=<MaximumBackward>),\n",
      "Z=tensor([0., 0., 0., 0., 0., 0., 0., 0., 0., 0., 0., 0., 0., 0., 0., 0., 0., 0., 0., 0.],\n",
      "       grad_fn=<MinimumBackward>))\n",
      "Hard intersection: BoxTensor(z=tensor([1.0000, 0.5000, 0.3333, 0.2500, 0.2000, 0.1667, 0.1429, 0.1250, 0.1111,\n",
      "        0.1000, 0.0909, 0.0833, 0.0769, 0.0714, 0.0667, 0.0625, 0.0588, 0.0556,\n",
      "        0.0526, 0.0500], grad_fn=<MaximumBackward>),\n",
      "Z=tensor([0., 0., 0., 0., 0., 0., 0., 0., 0., 0., 0., 0., 0., 0., 0., 0., 0., 0., 0., 0.],\n",
      "       grad_fn=<MinimumBackward>))\n",
      "-----------\n",
      "Gumbel intersection: BoxTensor(z=tensor([1.0486, 0.5789, 0.4259, 0.3502, 0.3051, 0.2751, 0.2538, 0.2378, 0.2254,\n",
      "        0.2155, 0.2074, 0.2007, 0.1950, 0.1901, 0.1859, 0.1822, 0.1789, 0.1760,\n",
      "        0.1734, 0.1711], grad_fn=<MulBackward0>),\n",
      "Z=tensor([-0.3270, -0.3277, -0.3285, -0.3294, -0.3305, -0.3316, -0.3330, -0.3345,\n",
      "        -0.3364, -0.3385, -0.3412, -0.3444, -0.3484, -0.3537, -0.3609, -0.3711,\n",
      "        -0.3869, -0.4144, -0.4741, -0.6931], grad_fn=<MulBackward0>))\n",
      "Gumbel intersection: BoxTensor(z=tensor([1.0486, 0.5789, 0.4259, 0.3502, 0.3051, 0.2751, 0.2538, 0.2378, 0.2254,\n",
      "        0.2155, 0.2074, 0.2007, 0.1950, 0.1901, 0.1859, 0.1822, 0.1789, 0.1760,\n",
      "        0.1734, 0.1711], grad_fn=<MulBackward0>),\n",
      "Z=tensor([-0.3270, -0.3277, -0.3285, -0.3294, -0.3305, -0.3316, -0.3330, -0.3345,\n",
      "        -0.3364, -0.3385, -0.3412, -0.3444, -0.3484, -0.3537, -0.3609, -0.3711,\n",
      "        -0.3869, -0.4144, -0.4741, -0.6931], grad_fn=<MulBackward0>))\n"
     ]
    }
   ],
   "source": [
    "from box_embeddings.modules.intersection import Intersection, HardIntersection, GumbelIntersection\n",
    "\n",
    "# Create data as tensors, and initialize two boxes, box_1 and box_2\n",
    "data_x = torch.tensor([[-2.0]*20, [0.0]*20])\n",
    "box_1 = BoxTensor(data_x)\n",
    "\n",
    "y_min = [1/n for n in range(1, 21)]\n",
    "y_max = [1 - k for k in reversed(y_min)]\n",
    "data_y = torch.tensor([y_min, y_max], requires_grad=True)\n",
    "box_2 = BoxTensor(data_y)\n",
    "\n",
    "# Hard intersection of box_1 and box_2 using the Intersection method\n",
    "print(\"Hard intersection:\", Intersection(intersection_temperature=0.0)(box_1, box_2))\n",
    "\n",
    "# Hard intersection of box_1 and box_2 using the HardIntersection method\n",
    "print(\"Hard intersection:\", HardIntersection()(box_1, box_2))\n",
    "print(\"-----------\")\n",
    "# Gumbel intersection of box_1 and box_2 using the Intersection method\n",
    "print(\"Gumbel intersection:\", Intersection(intersection_temperature=1.0)(box_1, box_2))\n",
    "\n",
    "# Hard intersection of box_1 and box_2 using the HardIntersection method\n",
    "print(\"Gumbel intersection:\", GumbelIntersection()(box_1, box_2))"
   ],
   "metadata": {
    "collapsed": false,
    "pycharm": {
     "name": "#%%\n"
    }
   }
  },
  {
   "cell_type": "markdown",
   "source": [
    "### 4. Box Containment Training\n",
    "In the following example, we train a simple box `box_2` to require it to be contained inside another box\n",
    "`box_1`. The training loop returns the best `box_1` and `box_2`."
   ],
   "metadata": {
    "collapsed": false
   }
  },
  {
   "cell_type": "code",
   "execution_count": 16,
   "outputs": [
    {
     "name": "stdout",
     "output_type": "stream",
     "text": [
      "Iteration 0, loss = 82.9150\n",
      "Iteration 1, loss = 2.5045\n",
      "Iteration 2, loss = 1.4673\n",
      "Iteration 3, loss = 0.8954\n",
      "Iteration 4, loss = 0.6085\n",
      "Iteration 5, loss = 0.4437\n",
      "Iteration 6, loss = 0.3400\n",
      "Iteration 7, loss = 0.2536\n",
      "Iteration 8, loss = 0.2115\n",
      "Iteration 9, loss = 0.1708\n",
      "Iteration 10, loss = 0.1313\n",
      "Iteration 11, loss = 0.0927\n",
      "Iteration 12, loss = 0.0548\n",
      "Iteration 13, loss = 0.0173\n",
      "Iteration 14, loss = 0.0000\n",
      "Iteration 15, loss = 0.0000\n",
      "Iteration 16, loss = 0.0000\n",
      "Iteration 17, loss = 0.0000\n",
      "Iteration 18, loss = 0.0000\n",
      "Iteration 19, loss = 0.0000\n",
      "BoxTensor(tensor([[-2.0000, -2.0000, -2.0000, -2.0000, -2.0000, -2.0000, -2.0000, -2.0000,\n",
      "         -2.0000, -2.0000, -2.0000, -2.0000, -2.0000, -2.0000, -2.0000, -2.0000,\n",
      "         -2.0000, -2.0000, -2.0000, -2.0000],\n",
      "        [ 1.0000,  0.9967,  0.9827,  0.9616,  1.0032,  0.9825,  0.9645,  0.9491,\n",
      "          0.9359,  0.9876,  0.9781,  0.9699,  0.9627,  0.9563,  1.0121,  1.0069,\n",
      "          1.0021,  1.0561,  1.1607,  1.4783]], dtype=torch.float64,\n",
      "       requires_grad=True))\n",
      "BoxTensor(tensor([[ 0.6392, -0.3165, -0.5110, -0.5880, -0.6236, -0.6421, -0.6520, -0.6575,\n",
      "         -0.6609, -0.6632, -0.6656, -0.6678, -0.6701, -0.6728, -0.6766, -0.6828,\n",
      "         -0.6915, -0.7078, -0.7425, -0.8601],\n",
      "        [ 0.4108,  0.8725,  0.9172,  0.9352,  0.8829,  0.8929,  0.9017,  0.9104,\n",
      "          0.9194,  0.8665,  0.8783,  0.8923,  0.9093,  0.9308,  0.8978,  0.9384,\n",
      "          0.9982,  1.0405,  1.1344,  1.4318]], dtype=torch.float64,\n",
      "       requires_grad=True))\n"
     ]
    }
   ],
   "source": [
    "import numpy\n",
    "from box_embeddings.parameterizations.box_tensor import BoxTensor\n",
    "from box_embeddings.modules.volume.volume import Volume\n",
    "from box_embeddings.modules.intersection import Intersection\n",
    "\n",
    "x_z = numpy.array([-2.0 for n in range(1, 21)])\n",
    "x_Z = numpy.array([0.0 for k in (x_z)])\n",
    "data_x = torch.tensor([x_z, x_Z], requires_grad=True)\n",
    "box_1 = BoxTensor(data_x)\n",
    "\n",
    "y_z = numpy.array([1/n for n in range(1, 21)])\n",
    "y_Z = numpy.array([1 + k for k in reversed(y_z)])\n",
    "data_y = torch.tensor([y_z, y_Z], requires_grad=True)\n",
    "box_2 = BoxTensor(data_y)\n",
    "\n",
    "# Training loop\n",
    "learning_rate = 0.1\n",
    "def train(box_1, box_2, optimizer, epochs=1):\n",
    "    best_loss = int()\n",
    "    best_box_1 = None\n",
    "    best_box_2 = None\n",
    "    box_vol = Volume(volume_temperature=0.1, intersection_temperature=0.0001)\n",
    "    box_int = Intersection(intersection_temperature=0.0001)\n",
    "    for e in range(epochs):\n",
    "        loss = box_vol(box_2) - box_vol(box_int(box_1, box_2))\n",
    "        optimizer.zero_grad()\n",
    "        loss.backward()\n",
    "        optimizer.step()\n",
    "        if best_loss < loss.item():\n",
    "            best_loss = loss.item()\n",
    "            best_box_2 = box_2\n",
    "            best_box_1 = box_1\n",
    "        print('Iteration %d, loss = %.4f' % (e, loss.item()))\n",
    "    return best_box_1, best_box_2\n",
    "\n",
    "optimizer =  torch.optim.SGD([data_x, data_y], lr=learning_rate)\n",
    "contained_box1, contained_box2 = train(box_1, box_2, optimizer, epochs=20)\n",
    "\n",
    "# Print the coordinates of the boxes after training\n",
    "print(contained_box1)\n",
    "print(contained_box2)"
   ],
   "metadata": {
    "collapsed": false,
    "pycharm": {
     "name": "#%%\n"
    }
   }
  }
 ],
 "metadata": {
  "kernelspec": {
   "display_name": "Python 3",
   "language": "python",
   "name": "python3"
  },
  "language_info": {
   "codemirror_mode": {
    "name": "ipython",
    "version": 2
   },
   "file_extension": ".py",
   "mimetype": "text/x-python",
   "name": "python",
   "nbconvert_exporter": "python",
   "pygments_lexer": "ipython2",
   "version": "2.7.6"
  }
 },
 "nbformat": 4,
 "nbformat_minor": 0
}
